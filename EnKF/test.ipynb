{
 "cells": [
  {
   "cell_type": "code",
   "execution_count": 23,
   "metadata": {},
   "outputs": [],
   "source": [
    "class EnkfInput:\n",
    "    def __init__(self, x, P, z, dim_z, dim_x, dt, N, F):\n",
    "        self.x = x\n",
    "        self.P = P\n",
    "        self.z = z\n",
    "        self.dim_z = dim_z\n",
    "        self.dim_x = dim_x\n",
    "        self.dt = dt\n",
    "        self.N = N\n",
    "        self.F = F\n",
    "        self.x_post = None\n",
    "        self.P_post = None"
   ]
  },
  {
   "cell_type": "code",
   "execution_count": 32,
   "metadata": {},
   "outputs": [],
   "source": [
    "from EnKF import enkf\n",
    "import numpy as np\n",
    "import matplotlib.pyplot as plt\n",
    "\n",
    "# Model parameters\n",
    "n = 1\n",
    "m = 1\n",
    "A = np.eye(n,n)\n",
    "H = np.eye(m, n)\n",
    "Q = np.eye(n) \n",
    "R = np.eye(m)\n",
    "np.random.seed(0)\n",
    "\n",
    "# Initial state and covariance\n",
    "x0 = np.zeros(n)\n",
    "P0 = np.eye(n) \n",
    "\n",
    "# Synthetic measurements\n",
    "n_steps = 100\n",
    "x = np.zeros((n, n_steps))\n",
    "y = np.zeros((m, n_steps))\n",
    "x[:, 0] = x0\n",
    "y[:, 0] = H @ x0 + np.random.multivariate_normal(np.zeros(m), R)\n",
    "for t in range(1, n_steps):\n",
    "    x[:, t] = A @ x[:, t-1] + np.random.multivariate_normal(np.zeros(n), Q)\n",
    "    y[:, t] = H @ x[:, t] + np.random.multivariate_normal(np.zeros(m), R)\n",
    "\n",
    "# System dynamics\n",
    "def f(x, dt): \n",
    "    return A @ x\n",
    "\n",
    "# Measurements\n",
    "def h(x): \n",
    "    return H @ x\n",
    "\n",
    "# Ensemble Kalman Filter\n",
    "my_enkf = enkf() # Initialize your enkf class\n",
    "\n",
    "# Set up the necessary parameters for your EnKF class\n",
    "enkf_input = EnkfInput(\n",
    "    x=x0,\n",
    "    P=P0,\n",
    "    z=None,\n",
    "    dim_z=m,\n",
    "    dim_x=n,\n",
    "    dt=1.,\n",
    "    N=10,\n",
    "    F=np.eye(n),\n",
    ")\n",
    "\n",
    "# Simulation\n",
    "state_estimates = np.zeros((n, n_steps))\n",
    "covariance_matrices = np.zeros((n, n, n_steps))\n",
    "\n",
    "# for t, yi in enumerate(y.T):\n",
    "#     enkf_input.z = yi  # Update the measurements\n",
    "#     my_enkf.run_enkf(enkf_input)\n",
    "#     state_estimates[:, t] = enkf_input.x_post\n",
    "#     covariance_matrices[:, :,  t] = enkf_input.P_post\n",
    "#     enkf_input.x = enkf_input.x_post\n",
    "#     enkf_input.P = enkf_input.P_post\n",
    "#     print(t)\n",
    "\n",
    "# # uncertaitny bounds\n",
    "# standard_deviations = np.zeros((n, n_steps))\n",
    "# for t in range(n_steps):\n",
    "#     standard_deviations[:, t] = np.sqrt(np.diag(covariance_matrices[:, :, t]))"
   ]
  },
  {
   "cell_type": "code",
   "execution_count": 39,
   "metadata": {},
   "outputs": [],
   "source": [
    "enkf_input.z = y[:, 0]  # Update the measurements\n",
    "my_enkf.run_enkf(enkf_input)"
   ]
  },
  {
   "cell_type": "code",
   "execution_count": 45,
   "metadata": {},
   "outputs": [],
   "source": [
    "enkf_input.x_post"
   ]
  },
  {
   "cell_type": "code",
   "execution_count": 21,
   "metadata": {},
   "outputs": [
    {
     "ename": "NameError",
     "evalue": "name 'standard_deviations' is not defined",
     "output_type": "error",
     "traceback": [
      "\u001b[0;31m---------------------------------------------------------------------------\u001b[0m",
      "\u001b[0;31mNameError\u001b[0m                                 Traceback (most recent call last)",
      "Cell \u001b[0;32mIn[21], line 12\u001b[0m\n\u001b[1;32m      8\u001b[0m     plt\u001b[39m.\u001b[39mplot(x[i, :], color\u001b[39m=\u001b[39mcolors[i], linestyle \u001b[39m=\u001b[39m \u001b[39m'\u001b[39m\u001b[39m--\u001b[39m\u001b[39m'\u001b[39m , label\u001b[39m=\u001b[39m\u001b[39mf\u001b[39m\u001b[39m\"\u001b[39m\u001b[39mTrue state \u001b[39m\u001b[39m{\u001b[39;00mi\u001b[39m}\u001b[39;00m\u001b[39m\"\u001b[39m)\n\u001b[1;32m      9\u001b[0m     plt\u001b[39m.\u001b[39mplot(state_estimates[i, :], color\u001b[39m=\u001b[39mcolors[i], label\u001b[39m=\u001b[39m\u001b[39mf\u001b[39m\u001b[39m\"\u001b[39m\u001b[39mEstimated state \u001b[39m\u001b[39m{\u001b[39;00mi\u001b[39m}\u001b[39;00m\u001b[39m\"\u001b[39m)\n\u001b[1;32m     10\u001b[0m     plt\u001b[39m.\u001b[39mfill_between(\n\u001b[1;32m     11\u001b[0m         np\u001b[39m.\u001b[39marange(n_steps),\n\u001b[0;32m---> 12\u001b[0m         state_estimates[i, :] \u001b[39m-\u001b[39m \u001b[39m1.96\u001b[39m \u001b[39m*\u001b[39m standard_deviations[i, :],\n\u001b[1;32m     13\u001b[0m         state_estimates[i, :] \u001b[39m+\u001b[39m \u001b[39m1.96\u001b[39m \u001b[39m*\u001b[39m standard_deviations[i, :],\n\u001b[1;32m     14\u001b[0m         color\u001b[39m=\u001b[39mcolors[i], alpha\u001b[39m=\u001b[39m\u001b[39m0.3\u001b[39m  \u001b[39m# Lighter color for uncertainty bounds\u001b[39;00m\n\u001b[1;32m     15\u001b[0m     )\n\u001b[1;32m     17\u001b[0m plt\u001b[39m.\u001b[39mxlabel(\u001b[39m'\u001b[39m\u001b[39mTime step\u001b[39m\u001b[39m'\u001b[39m)\n\u001b[1;32m     18\u001b[0m plt\u001b[39m.\u001b[39mylabel(\u001b[39m'\u001b[39m\u001b[39mStates\u001b[39m\u001b[39m'\u001b[39m)\n",
      "\u001b[0;31mNameError\u001b[0m: name 'standard_deviations' is not defined"
     ]
    },
    {
     "data": {
      "image/png": "[encoded data removed]",
      "text/plain": [
       "<Figure size 640x480 with 1 Axes>"
      ]
     },
     "metadata": {},
     "output_type": "display_data"
    }
   ],
   "source": [
    "colors = ['blue', 'green', 'red']  # Add more colors if there are more states\n",
    "\n",
    "# Create a new figure\n",
    "plt.figure()\n",
    "\n",
    "# Plot state estimates with uncertainty bounds\n",
    "for i in range(n):\n",
    "    plt.plot(x[i, :], color=colors[i], linestyle = '--' , label=f\"True state {i}\")\n",
    "    plt.plot(state_estimates[i, :], color=colors[i], label=f\"Estimated state {i}\")\n",
    "    plt.fill_between(\n",
    "        np.arange(n_steps),\n",
    "        state_estimates[i, :] - 1.96 * standard_deviations[i, :],\n",
    "        state_estimates[i, :] + 1.96 * standard_deviations[i, :],\n",
    "        color=colors[i], alpha=0.3  # Lighter color for uncertainty bounds\n",
    "    )\n",
    "\n",
    "plt.xlabel('Time step')\n",
    "plt.ylabel('States')\n",
    "plt.legend()\n",
    "plt.show()"
   ]
  }
 ],
 "metadata": {
  "kernelspec": {
   "display_name": "pipedream_dv",
   "language": "python",
   "name": "python3"
  },
  "language_info": {
   "codemirror_mode": {
    "name": "ipython",
    "version": 3
   },
   "file_extension": ".py",
   "mimetype": "text/x-python",
   "name": "python",
   "nbconvert_exporter": "python",
   "pygments_lexer": "ipython3",
   "version": "3.9.15"
  },
  "orig_nbformat": 4
 },
 "nbformat": 4,
 "nbformat_minor": 2
}
